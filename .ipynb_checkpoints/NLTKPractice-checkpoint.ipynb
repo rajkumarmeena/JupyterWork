{
 "cells": [
  {
   "cell_type": "code",
   "execution_count": 31,
   "metadata": {
    "collapsed": true
   },
   "outputs": [],
   "source": [
    "import nltk ## Just installing new nltk package in anaconda package and using it if it is working"
   ]
  },
  {
   "cell_type": "code",
   "execution_count": 32,
   "metadata": {
    "collapsed": true
   },
   "outputs": [],
   "source": [
    "sentence = \"\"\"At eight o'clock on Thursday morning... Arthur didn't feel very good.\"\"\""
   ]
  },
  {
   "cell_type": "code",
   "execution_count": 33,
   "metadata": {
    "collapsed": true
   },
   "outputs": [],
   "source": [
    "tokens = nltk.word_tokenize(sentence)"
   ]
  },
  {
   "cell_type": "code",
   "execution_count": 34,
   "metadata": {},
   "outputs": [
    {
     "name": "stdout",
     "output_type": "stream",
     "text": [
      "['At', 'eight', \"o'clock\", 'on', 'Thursday', 'morning', '...', 'Arthur', 'did', \"n't\", 'feel', 'very', 'good', '.']\n"
     ]
    }
   ],
   "source": [
    "print(tokens)"
   ]
  },
  {
   "cell_type": "code",
   "execution_count": 35,
   "metadata": {
    "collapsed": true
   },
   "outputs": [],
   "source": [
    "tagged = nltk.pos_tag(tokens)"
   ]
  },
  {
   "cell_type": "code",
   "execution_count": 36,
   "metadata": {},
   "outputs": [
    {
     "data": {
      "text/plain": [
       "[('At', 'IN'),\n",
       " ('eight', 'CD'),\n",
       " (\"o'clock\", 'NN'),\n",
       " ('on', 'IN'),\n",
       " ('Thursday', 'NNP'),\n",
       " ('morning', 'NN')]"
      ]
     },
     "execution_count": 36,
     "metadata": {},
     "output_type": "execute_result"
    }
   ],
   "source": [
    "tagged[0:6]"
   ]
  },
  {
   "cell_type": "code",
   "execution_count": 37,
   "metadata": {
    "collapsed": true
   },
   "outputs": [],
   "source": [
    "para = \"hey there, how are you doing. You want to go out today ? Seems like pretty good day to have some fun in this winter\"\n",
    "sentTokens = nltk.sent_tokenize(para)"
   ]
  },
  {
   "cell_type": "code",
   "execution_count": 38,
   "metadata": {},
   "outputs": [
    {
     "data": {
      "text/plain": [
       "['hey there, how are you doing.',\n",
       " 'You want to go out today ?',\n",
       " 'Seems like pretty good day to have some fun in this winter']"
      ]
     },
     "execution_count": 38,
     "metadata": {},
     "output_type": "execute_result"
    }
   ],
   "source": [
    "sentTokens"
   ]
  },
  {
   "cell_type": "code",
   "execution_count": 45,
   "metadata": {},
   "outputs": [
    {
     "name": "stdout",
     "output_type": "stream",
     "text": [
      "hey there, how are you doing.\n",
      "You want to go out today ?\n",
      "Seems like pretty good day to have some fun in this winter\n"
     ]
    }
   ],
   "source": [
    "for i in sentTokens:\n",
    "    print(i)"
   ]
  },
  {
   "cell_type": "code",
   "execution_count": 58,
   "metadata": {
    "collapsed": true
   },
   "outputs": [],
   "source": [
    "#Stop words\n",
    "from nltk.corpus import stopwords \n",
    "stopWords = set(stopwords.words(\"english\"))\n",
    "filteredSenetence = []"
   ]
  },
  {
   "cell_type": "code",
   "execution_count": 62,
   "metadata": {},
   "outputs": [
    {
     "name": "stdout",
     "output_type": "stream",
     "text": [
      "['At', 'eight', \"o'clock\", 'Thursday', 'morning', '...', 'Arthur', \"n't\", 'feel', 'good', '.', 'At', 'eight', \"o'clock\", 'Thursday', 'morning', '...', 'Arthur', \"n't\", 'feel', 'good', '.']\n"
     ]
    }
   ],
   "source": [
    "for i in tokens:\n",
    "    if i not in stopWords:\n",
    "        filteredSenetence.append(i)\n",
    "\n",
    "print(filteredSenetence)"
   ]
  },
  {
   "cell_type": "code",
   "execution_count": 63,
   "metadata": {},
   "outputs": [
    {
     "name": "stdout",
     "output_type": "stream",
     "text": [
      "{'wasn', 'haven', 'mustn', 'it', 'because', 'other', 'didn', 'whom', 'both', 'itself', 'will', 'after', 'hasn', 'between', 'as', 'should', 'which', 'isn', 'up', 'over', 'such', 'been', 'before', 'ours', 'during', 'just', 'am', 'ain', 'an', 'shan', 'herself', 'their', 'if', 'can', 'y', 've', 'hers', 'more', 'was', 'where', 'most', 'he', 'd', 'll', 'mightn', 'very', 'what', 'her', 'had', 'doesn', 'weren', 'him', 'and', 'at', 'by', 'any', 'we', 'they', 'all', 'doing', 'don', 'not', 'are', 'aren', 'himself', 'couldn', 'when', 'nor', 'she', 'some', 'in', 'them', 'or', 'against', 'again', 'down', 'ourselves', 'but', 'further', 'themselves', 's', 'were', 'these', 'this', 'yours', 'under', 'for', 'into', 'your', 'here', 'needn', 'of', 'own', 'few', 'my', 'being', 'hadn', 'its', 'only', 'that', 'o', 'each', 'no', 'myself', 'once', 'while', 'yourselves', 'theirs', 'there', 'same', 'is', 'now', 'has', 'shouldn', 'through', 't', 'than', 'how', 'do', 'won', 'with', 'did', 'off', 'our', 'm', 'until', 'yourself', 'ma', 'having', 'to', 'does', 'a', 'who', 'have', 'out', 'then', 'above', 'me', 'his', 'be', 'on', 're', 'from', 'you', 'too', 'wouldn', 'those', 'i', 'about', 'so', 'why', 'the', 'below'}\n"
     ]
    }
   ],
   "source": [
    "print(stopWords)"
   ]
  },
  {
   "cell_type": "code",
   "execution_count": 68,
   "metadata": {
    "collapsed": true
   },
   "outputs": [],
   "source": [
    "from nltk.stem import PorterStemmer\n",
    "from nltk.tokenize import word_tokenize"
   ]
  },
  {
   "cell_type": "code",
   "execution_count": 82,
   "metadata": {},
   "outputs": [
    {
     "name": "stdout",
     "output_type": "stream",
     "text": [
      "['This', 'is', 'just', 'for', 'checking', 'wordsteming', 'in', 'PorterStemmer', 'Package', 'of', 'paython', '.', 'This', 'is', 'to', 'learn', 'stemming', 'wisely.Practicing', 'the', 'coding', 'part', 'of', 'it', '.']\n",
      "thi\n",
      "is\n",
      "just\n",
      "for\n",
      "check\n",
      "wordstem\n",
      "in\n",
      "porterstemm\n",
      "packag\n",
      "of\n",
      "paython\n",
      ".\n",
      "thi\n",
      "is\n",
      "to\n",
      "learn\n",
      "stem\n",
      "wisely.pract\n",
      "the\n",
      "code\n",
      "part\n",
      "of\n",
      "it\n",
      ".\n"
     ]
    }
   ],
   "source": [
    "ps = PorterStemmer()\n",
    "sent = \"This is just for checking wordsteming in PorterStemmer Package of paython. This is to learn stemming wisely.\" + \"Practicing the coding part of it.\"\n",
    "StemingWordList = word_tokenize(sent)\n",
    "print(StemingWordList)\n",
    "for w in StemingWordList:\n",
    "    print(ps.stem(w))"
   ]
  },
  {
   "cell_type": "code",
   "execution_count": null,
   "metadata": {},
   "outputs": [],
   "source": [
    "## This is for name Entity recognition in the nltk module\n",
    "\n",
    "import nltk\n",
    "from nltk.corpus import state_union\n",
    "from nltk.tokenize import PunktSentenceTokenizer\n",
    "\n",
    "train_text = state_union.raw(\"2005-GWBush.txt\")\n",
    "sample_text = state_union.raw(\"2006-GWBush.txt\")\n",
    "\n",
    "custom_sentence_tokenizer = PunktSentenceTokenizer(train_text)\n",
    "tokenized = custom_sentence_tokenizer.tokenize(sample_text)\n",
    "\n",
    "def process_content():\n",
    "    try:\n",
    "        for i in tokenized[5:]:\n",
    "            words = nltk.word_tokenize(i)\n",
    "            tagged = nltk.pos_tag(words)\n",
    "            \n",
    "            \n",
    "            nameEnt = nltk.ne_chunk(tagged)\n",
    "            nameEnt.draw()\n",
    "    except Exception as e:\n",
    "        print(e)"
   ]
  },
  {
   "cell_type": "code",
   "execution_count": null,
   "metadata": {
    "collapsed": true
   },
   "outputs": [],
   "source": []
  }
 ],
 "metadata": {
  "kernelspec": {
   "display_name": "Python 3",
   "language": "python",
   "name": "python3"
  },
  "language_info": {
   "codemirror_mode": {
    "name": "ipython",
    "version": 3
   },
   "file_extension": ".py",
   "mimetype": "text/x-python",
   "name": "python",
   "nbconvert_exporter": "python",
   "pygments_lexer": "ipython3",
   "version": "3.6.1"
  }
 },
 "nbformat": 4,
 "nbformat_minor": 2
}
