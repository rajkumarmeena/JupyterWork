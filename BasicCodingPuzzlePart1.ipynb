{
 "cells": [
  {
   "cell_type": "code",
   "execution_count": null,
   "metadata": {
    "collapsed": true
   },
   "outputs": [],
   "source": [
    "## Problem 1\n",
    "#Print 0 1 2 3 4 5 6 7 8 9 10 9 8 7 6 5 4 3 2 1 \n",
    "#Follow the below rules \n",
    "\n",
    "#Intialiazation should not be done by 0 i.e. I= 0 should not be done \n",
    "\n",
    "#Only one time a loop or tertiary conditions or increment or decrement should be done \n",
    "\n",
    "#No nested loops or nested conditions only 1 loop or 1 condition should be used \n",
    "#Ex if() or for {} \n",
    "\n",
    "#One loop and 1 condition can't be use.. u can use either this or that"
   ]
  },
  {
   "cell_type": "code",
   "execution_count": null,
   "metadata": {
    "collapsed": true
   },
   "outputs": [],
   "source": []
  }
 ],
 "metadata": {
  "kernelspec": {
   "display_name": "Python 3",
   "language": "python",
   "name": "python3"
  },
  "language_info": {
   "codemirror_mode": {
    "name": "ipython",
    "version": 3
   },
   "file_extension": ".py",
   "mimetype": "text/x-python",
   "name": "python",
   "nbconvert_exporter": "python",
   "pygments_lexer": "ipython3",
   "version": "3.6.1"
  }
 },
 "nbformat": 4,
 "nbformat_minor": 2
}
